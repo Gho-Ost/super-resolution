{
 "cells": [
  {
   "cell_type": "code",
   "execution_count": 1,
   "metadata": {},
   "outputs": [],
   "source": [
    "import numpy as np \n",
    "import pandas as pd \n",
    "import os\n",
    "import re\n",
    "import tensorflow as tf\n",
    "from tensorflow.keras.layers import Input, Dense, Conv2D, MaxPooling2D, Dropout, Conv2DTranspose, UpSampling2D, add, Flatten, Lambda, Reshape, BatchNormalization, concatenate, AveragePooling2D\n",
    "from tensorflow.keras.models import Model\n",
    "from tensorflow.keras import regularizers\n",
    "from tensorflow.keras.preprocessing.image import load_img, img_to_array\n",
    "from tensorflow.keras.preprocessing.image import ImageDataGenerator\n",
    "from tensorflow.python.keras.callbacks import ModelCheckpoint, EarlyStopping, ReduceLROnPlateau, TensorBoard\n",
    "import matplotlib.pyplot as plt\n",
    "import scipy\n",
    "from PIL import Image\n",
    "import random\n",
    "import cv2\n",
    "from tensorflow.keras.metrics import MeanAbsoluteError, MeanSquaredError, RootMeanSquaredError, Mean, binary_crossentropy, binary_accuracy\n",
    "from sklearn.model_selection import train_test_split\n",
    "from tqdm import tqdm\n",
    "import time"
   ]
  },
  {
   "cell_type": "code",
   "execution_count": 2,
   "metadata": {},
   "outputs": [
    {
     "name": "stdout",
     "output_type": "stream",
     "text": [
      "[PhysicalDevice(name='/physical_device:GPU:0', device_type='GPU')]\n",
      "Using local GPU: PhysicalDevice(name='/physical_device:GPU:0', device_type='GPU')\n",
      "Device mapping:\n",
      "/job:localhost/replica:0/task:0/device:GPU:0 -> device: 0, name: NVIDIA GeForce RTX 3060 Ti, pci bus id: 0000:01:00.0, compute capability: 8.6\n",
      "\n"
     ]
    }
   ],
   "source": [
    "try:\n",
    "    import google.colab\n",
    "    in_colab = True\n",
    "except ImportError:\n",
    "    in_colab = False\n",
    "\n",
    "if in_colab:\n",
    "    try:\n",
    "        tpu = tf.distribute.cluster_resolver.TPUClusterResolver()\n",
    "        print('Running on TPU ', tpu.cluster_spec().as_dict()['worker'])\n",
    "        tf.config.experimental_connect_to_cluster(tpu)\n",
    "        tf.tpu.experimental.initialize_tpu_system(tpu)\n",
    "        tpu_strategy = tf.distribute.TPUStrategy(tpu)\n",
    "    except ValueError:\n",
    "        if 'GPU' in [gpu[-1] for gpu in tf.config.list_physical_devices('GPU')]:\n",
    "            print('Running on Google Colab GPU')\n",
    "        else:\n",
    "            print('Not connected to a TPU or GPU runtime')\n",
    "\n",
    "else:\n",
    "    physical_devices = tf.config.list_physical_devices('GPU')\n",
    "    print(physical_devices)\n",
    "    try:\n",
    "        if len(physical_devices):\n",
    "            for gpu in physical_devices:\n",
    "                tf.config.experimental.set_memory_growth(gpu, enable = True)\n",
    "                print(f\"Using local GPU: {gpu}\")\n",
    "            sess = tf.compat.v1.Session(config = tf.compat.v1.ConfigProto(log_device_placement = True))\n",
    "        else:\n",
    "            print(\"No local GPU found\")\n",
    "    except:\n",
    "        print(\"Error Mounting a GPU\")"
   ]
  },
  {
   "cell_type": "code",
   "execution_count": 3,
   "metadata": {},
   "outputs": [],
   "source": [
    "def filter_df(df, viable_nums=[\"2\", \"4\", \"6\"]):\n",
    "    condition = df['low_res'].str.endswith(tuple(num + \".jpg\" for num in viable_nums))\n",
    "    filtered_df = df[condition]\n",
    "    return filtered_df"
   ]
  },
  {
   "cell_type": "code",
   "execution_count": 4,
   "metadata": {},
   "outputs": [],
   "source": [
    "def read_images(df):\n",
    "    new_df = pd.DataFrame(columns=[\"low_res\", \"high_res\"])\n",
    "\n",
    "    for index, row in df.iterrows():\n",
    "            low_res_path = row[\"low_res\"]\n",
    "            low_res_img = Image.open(low_res_path)\n",
    "            low_res_array = np.array(low_res_img)\n",
    "\n",
    "            high_res_path = row[\"high_res\"]\n",
    "            high_res_img = Image.open(high_res_path)\n",
    "            high_res_array = np.array(high_res_img)\n",
    "            new_row = {\n",
    "                \"low_res\" : low_res_array,\n",
    "                \"high_res\" : high_res_array,\n",
    "            }\n",
    "            new_df = pd.concat([new_df, pd.DataFrame([new_row])], ignore_index=True)\n",
    "        \n",
    "    return new_df"
   ]
  },
  {
   "cell_type": "code",
   "execution_count": 5,
   "metadata": {},
   "outputs": [],
   "source": [
    "EPOCHS = 100\n",
    "seed = 42\n",
    "\n",
    "INPUT_SHAPE = (400, 600, 3)\n",
    "IMAGE_SHAPE = (400, 600)\n",
    "BATCH_SIZE = 32 "
   ]
  },
  {
   "cell_type": "markdown",
   "metadata": {},
   "source": [
    "## Data"
   ]
  },
  {
   "cell_type": "code",
   "execution_count": 6,
   "metadata": {},
   "outputs": [
    {
     "name": "stdout",
     "output_type": "stream",
     "text": [
      "Train dataset: <BatchDataset element_spec=(TensorSpec(shape=(None, 400, 600, 3), dtype=tf.float32, name=None), TensorSpec(shape=(None, 400, 600, 3), dtype=tf.float32, name=None))>\n",
      "Validation dataset: <BatchDataset element_spec=(TensorSpec(shape=(None, 400, 600, 3), dtype=tf.float32, name=None), TensorSpec(shape=(None, 400, 600, 3), dtype=tf.float32, name=None))>\n",
      "Test dataset: <BatchDataset element_spec=(TensorSpec(shape=(None, 400, 600, 3), dtype=tf.float32, name=None), TensorSpec(shape=(None, 400, 600, 3), dtype=tf.float32, name=None))>\n"
     ]
    }
   ],
   "source": [
    "def load_and_preprocess_image(low_res_path, high_res_path):\n",
    "    low_res_image = tf.io.read_file(low_res_path)\n",
    "    low_res_image = tf.image.decode_jpeg(low_res_image, channels=3)\n",
    "    low_res_image = tf.image.resize(low_res_image, IMAGE_SHAPE)\n",
    "\n",
    "    high_res_image = tf.io.read_file(high_res_path)\n",
    "    high_res_image = tf.image.decode_jpeg(high_res_image, channels=3)\n",
    "    high_res_image = tf.image.resize(high_res_image, IMAGE_SHAPE)\n",
    "    \n",
    "    low_res_image = low_res_image / 255.0\n",
    "    high_res_image = high_res_image / 255.0\n",
    "    return low_res_image, high_res_image\n",
    "\n",
    "def create_dataset(data, data_dir, batch_size):\n",
    "    low_res_paths = data['low_res'].apply(lambda x: os.path.join(data_dir, 'low res', x)).values\n",
    "    high_res_paths = data['high_res'].apply(lambda x: os.path.join(data_dir, 'high res', x)).values\n",
    "\n",
    "    dataset = tf.data.Dataset.from_tensor_slices((low_res_paths, high_res_paths))\n",
    "    dataset = dataset.map(load_and_preprocess_image)\n",
    "    dataset = dataset.batch(batch_size)\n",
    "\n",
    "    return dataset\n",
    "\n",
    "# Define constants\n",
    "BATCH_SIZE = 16\n",
    "DATA_DIR = 'Data'\n",
    "\n",
    "# Load CSV file\n",
    "csv_path = os.path.join(DATA_DIR, 'image_data.csv')\n",
    "df = pd.read_csv(csv_path)\n",
    "\n",
    "# Split data into train, validation, and test sets\n",
    "train_data, val_test_data = train_test_split(df, test_size=0.2, random_state=seed)\n",
    "val_data, test_data = train_test_split(val_test_data, test_size=0.5, random_state=seed)\n",
    "\n",
    "# Create datasets\n",
    "train_dataset = create_dataset(train_data, DATA_DIR, BATCH_SIZE)\n",
    "val_dataset = create_dataset(val_data, DATA_DIR, BATCH_SIZE)\n",
    "test_dataset = create_dataset(test_data, DATA_DIR, BATCH_SIZE)\n",
    "\n",
    "# Print dataset information\n",
    "print(\"Train dataset:\", train_dataset)\n",
    "print(\"Validation dataset:\", val_dataset)\n",
    "print(\"Test dataset:\", test_dataset)"
   ]
  },
  {
   "cell_type": "code",
   "execution_count": 7,
   "metadata": {},
   "outputs": [
    {
     "data": {
      "text/plain": [
       "3024"
      ]
     },
     "execution_count": 7,
     "metadata": {},
     "output_type": "execute_result"
    }
   ],
   "source": [
    "len(train_dataset) * BATCH_SIZE"
   ]
  },
  {
   "cell_type": "code",
   "execution_count": 8,
   "metadata": {},
   "outputs": [
    {
     "data": {
      "image/png": "[encoded data removed]",
      "text/plain": [
       "<Figure size 1800x1400 with 2 Axes>"
      ]
     },
     "metadata": {},
     "output_type": "display_data"
    }
   ],
   "source": [
    "import matplotlib.pyplot as plt\n",
    "\n",
    "# Create an iterator for the train_dataset\n",
    "train_iterator = iter(train_dataset)\n",
    "\n",
    "# Get a batch of training examples\n",
    "batch_of_images, batch_of_targets = next(train_iterator)\n",
    "\n",
    "# Visualize the first training example and its target\n",
    "sample_training_image = batch_of_images[10].numpy()\n",
    "sample_target_image = batch_of_targets[10].numpy()\n",
    "\n",
    "# Display the images\n",
    "plt.figure(figsize=(18, 14))\n",
    "plt.subplot(1, 2, 1)\n",
    "plt.imshow(sample_training_image.astype(\"uint8\"))\n",
    "plt.title(\"Training Image\")\n",
    "\n",
    "plt.subplot(1, 2, 2)\n",
    "plt.imshow(sample_target_image.astype(\"uint8\"))\n",
    "plt.title(\"Target Image\")\n",
    "\n",
    "plt.show()"
   ]
  },
  {
   "cell_type": "code",
   "execution_count": 9,
   "metadata": {},
   "outputs": [],
   "source": [
    "def build_conv_model(input_shape=INPUT_SHAPE):\n",
    "    # Input layer\n",
    "    input_img = Input(shape=input_shape)\n",
    "\n",
    "    # Convolutional layers\n",
    "    conv1 = Conv2D(16, (3, 3), padding='same', activation='elu')(input_img)\n",
    "    conv2 = Conv2D(32, (3, 3), padding='same', activation='elu')(conv1)\n",
    "    conv3 = Conv2D(64, (3, 3), padding='same', activation='elu')(conv2)\n",
    "    conv4 = Conv2D(32, (3, 3), padding='same', activation='elu')(conv3)\n",
    "    conv5 = Conv2D(16, (3, 3), padding='same', activation='elu')(conv4)\n",
    "\n",
    "    # Output layer\n",
    "    output_img = Conv2D(3, (3, 3), padding='same', activation='sigmoid')(conv5)\n",
    "\n",
    "    conv_model = Model(input_img, output_img)\n",
    "    metrics_list = ['accuracy', MeanAbsoluteError(name='mae'), RootMeanSquaredError(name='rmse')]\n",
    "    conv_model.compile(optimizer='adam', loss='mean_squared_error', metrics=metrics_list)\n",
    "\n",
    "    return conv_model\n",
    "\n",
    "conv_model = build_conv_model()"
   ]
  },
  {
   "cell_type": "code",
   "execution_count": 10,
   "metadata": {},
   "outputs": [],
   "source": [
    "early_stopping = EarlyStopping(monitor='val_loss', patience=10, restore_best_weights=True)\n",
    "reduce_lr_plateau = ReduceLROnPlateau(monitor='val_loss', factor=0.1, patience=5, verbose=1)\n",
    "tensorboard = TensorBoard(log_dir='logs')"
   ]
  },
  {
   "cell_type": "code",
   "execution_count": 11,
   "metadata": {},
   "outputs": [
    {
     "name": "stdout",
     "output_type": "stream",
     "text": [
      "Epoch 1/100\n"
     ]
    },
    {
     "name": "stdout",
     "output_type": "stream",
     "text": [
      "189/189 [==============================] - 98s 444ms/step - loss: 0.0103 - accuracy: 0.7575 - mae: 0.0646 - rmse: 0.1017 - val_loss: 0.0041 - val_accuracy: 0.8267 - val_mae: 0.0468 - val_rmse: 0.0638 - lr: 0.0010\n",
      "Epoch 2/100\n",
      "189/189 [==============================] - 83s 441ms/step - loss: 0.0034 - accuracy: 0.8319 - mae: 0.0423 - rmse: 0.0583 - val_loss: 0.0037 - val_accuracy: 0.8286 - val_mae: 0.0441 - val_rmse: 0.0607 - lr: 0.0010\n",
      "Epoch 3/100\n",
      "189/189 [==============================] - 83s 439ms/step - loss: 0.0029 - accuracy: 0.8207 - mae: 0.0369 - rmse: 0.0534 - val_loss: 0.0024 - val_accuracy: 0.8049 - val_mae: 0.0295 - val_rmse: 0.0487 - lr: 0.0010\n",
      "Epoch 4/100\n",
      "189/189 [==============================] - 83s 440ms/step - loss: 0.0024 - accuracy: 0.8275 - mae: 0.0314 - rmse: 0.0485 - val_loss: 0.0023 - val_accuracy: 0.8473 - val_mae: 0.0298 - val_rmse: 0.0484 - lr: 0.0010\n",
      "Epoch 5/100\n",
      "189/189 [==============================] - 83s 440ms/step - loss: 0.0020 - accuracy: 0.8473 - mae: 0.0267 - rmse: 0.0447 - val_loss: 0.0021 - val_accuracy: 0.8287 - val_mae: 0.0259 - val_rmse: 0.0456 - lr: 0.0010\n",
      "Epoch 6/100\n",
      "189/189 [==============================] - 84s 443ms/step - loss: 0.0018 - accuracy: 0.8587 - mae: 0.0234 - rmse: 0.0423 - val_loss: 0.0020 - val_accuracy: 0.8454 - val_mae: 0.0234 - val_rmse: 0.0442 - lr: 0.0010\n",
      "Epoch 7/100\n",
      "189/189 [==============================] - 83s 440ms/step - loss: 0.0018 - accuracy: 0.8579 - mae: 0.0239 - rmse: 0.0426 - val_loss: 0.0020 - val_accuracy: 0.8560 - val_mae: 0.0255 - val_rmse: 0.0450 - lr: 0.0010\n",
      "Epoch 8/100\n",
      "189/189 [==============================] - 83s 437ms/step - loss: 0.0017 - accuracy: 0.8679 - mae: 0.0219 - rmse: 0.0413 - val_loss: 0.0022 - val_accuracy: 0.7932 - val_mae: 0.0283 - val_rmse: 0.0467 - lr: 0.0010\n",
      "Epoch 9/100\n",
      "189/189 [==============================] - 85s 448ms/step - loss: 0.0017 - accuracy: 0.8686 - mae: 0.0223 - rmse: 0.0414 - val_loss: 0.0023 - val_accuracy: 0.8027 - val_mae: 0.0305 - val_rmse: 0.0483 - lr: 0.0010\n",
      "Epoch 10/100\n",
      "189/189 [==============================] - 85s 448ms/step - loss: 0.0017 - accuracy: 0.8702 - mae: 0.0221 - rmse: 0.0413 - val_loss: 0.0023 - val_accuracy: 0.7946 - val_mae: 0.0307 - val_rmse: 0.0483 - lr: 0.0010\n",
      "Epoch 11/100\n",
      "188/189 [============================>.] - ETA: 0s - loss: 0.0017 - accuracy: 0.8738 - mae: 0.0218 - rmse: 0.0411\n",
      "Epoch 00011: ReduceLROnPlateau reducing learning rate to 0.00010000000474974513.\n",
      "189/189 [==============================] - 82s 435ms/step - loss: 0.0017 - accuracy: 0.8739 - mae: 0.0218 - rmse: 0.0411 - val_loss: 0.0024 - val_accuracy: 0.7885 - val_mae: 0.0314 - val_rmse: 0.0487 - lr: 0.0010\n",
      "Epoch 12/100\n",
      "189/189 [==============================] - 83s 439ms/step - loss: 0.0016 - accuracy: 0.8899 - mae: 0.0197 - rmse: 0.0400 - val_loss: 0.0018 - val_accuracy: 0.8727 - val_mae: 0.0205 - val_rmse: 0.0426 - lr: 1.0000e-04\n",
      "Epoch 13/100\n",
      "189/189 [==============================] - 83s 441ms/step - loss: 0.0016 - accuracy: 0.8926 - mae: 0.0191 - rmse: 0.0398 - val_loss: 0.0018 - val_accuracy: 0.8695 - val_mae: 0.0204 - val_rmse: 0.0426 - lr: 1.0000e-04\n",
      "Epoch 14/100\n",
      "189/189 [==============================] - 83s 441ms/step - loss: 0.0016 - accuracy: 0.8927 - mae: 0.0191 - rmse: 0.0398 - val_loss: 0.0018 - val_accuracy: 0.8685 - val_mae: 0.0204 - val_rmse: 0.0426 - lr: 1.0000e-04\n",
      "Epoch 15/100\n",
      "189/189 [==============================] - 85s 450ms/step - loss: 0.0016 - accuracy: 0.8929 - mae: 0.0191 - rmse: 0.0397 - val_loss: 0.0018 - val_accuracy: 0.8690 - val_mae: 0.0203 - val_rmse: 0.0425 - lr: 1.0000e-04\n",
      "Epoch 16/100\n",
      "189/189 [==============================] - 85s 448ms/step - loss: 0.0016 - accuracy: 0.8929 - mae: 0.0191 - rmse: 0.0397 - val_loss: 0.0018 - val_accuracy: 0.8698 - val_mae: 0.0203 - val_rmse: 0.0425 - lr: 1.0000e-04\n",
      "Epoch 17/100\n",
      "188/189 [============================>.] - ETA: 0s - loss: 0.0016 - accuracy: 0.8931 - mae: 0.0190 - rmse: 0.0397\n",
      "Epoch 00017: ReduceLROnPlateau reducing learning rate to 1.0000000474974514e-05.\n",
      "189/189 [==============================] - 85s 450ms/step - loss: 0.0016 - accuracy: 0.8931 - mae: 0.0190 - rmse: 0.0397 - val_loss: 0.0018 - val_accuracy: 0.8711 - val_mae: 0.0203 - val_rmse: 0.0425 - lr: 1.0000e-04\n",
      "Epoch 18/100\n",
      "189/189 [==============================] - 85s 448ms/step - loss: 0.0016 - accuracy: 0.8952 - mae: 0.0189 - rmse: 0.0396 - val_loss: 0.0018 - val_accuracy: 0.8753 - val_mae: 0.0202 - val_rmse: 0.0425 - lr: 1.0000e-05\n",
      "Epoch 19/100\n",
      "135/189 [====================>.........] - ETA: 22s - loss: 0.0016 - accuracy: 0.8936 - mae: 0.0190 - rmse: 0.0397"
     ]
    }
   ],
   "source": [
    "history = conv_model.fit(\n",
    "    train_dataset,\n",
    "    epochs=EPOCHS,\n",
    "    validation_data = val_dataset,\n",
    "    callbacks=[early_stopping, reduce_lr_plateau]\n",
    ")"
   ]
  }
 ],
 "metadata": {
  "kernelspec": {
   "display_name": "tf",
   "language": "python",
   "name": "python3"
  },
  "language_info": {
   "codemirror_mode": {
    "name": "ipython",
    "version": 3
   },
   "file_extension": ".py",
   "mimetype": "text/x-python",
   "name": "python",
   "nbconvert_exporter": "python",
   "pygments_lexer": "ipython3",
   "version": "3.9.18"
  }
 },
 "nbformat": 4,
 "nbformat_minor": 2
}
